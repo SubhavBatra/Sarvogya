{
 "cells": [
  {
   "cell_type": "code",
   "execution_count": 1,
   "metadata": {},
   "outputs": [],
   "source": [
    "from pdfquery import PDFQuery\n",
    "pdf = PDFQuery(\"Puranjay.pdf\")\n",
    "\n",
    "pdf.load()\n",
    "\n",
    "pdf.tree.write(\"Puranjay.xml\", pretty_print=True, encoding='utf-8')"
   ]
  },
  {
   "cell_type": "code",
   "execution_count": 2,
   "metadata": {},
   "outputs": [],
   "source": [
    "name = pdf.pq('LTTextLineHorizontal:in_bbox(\"91.112, 784.766, 185.927, 793.385\")').text()\n",
    "name = name.split(' ')[0:3]\n",
    "name = ' '.join(name)\n",
    "\n",
    "age = pdf.pq('LTTextLineHorizontal:in_bbox(\"369.375, 773.439, 404.833, 782.057\")').text()\n",
    "age = age.split(' ')[0:2]\n",
    "age = ' '.join(age)\n",
    "\n",
    "gender = pdf.pq('LTTextLineHorizontal:in_bbox(\"370.36, 762.111, 389.519, 770.73\")').text()\n",
    "gender = gender.split(' ')[0:1]\n",
    "gender = ' '.join(gender)\n",
    "\n"
   ]
  },
  {
   "cell_type": "code",
   "execution_count": 4,
   "metadata": {},
   "outputs": [],
   "source": [
    "hgb = pdf.pq('LTTextLineHorizontal:in_bbox(\"283.877, 563.789, 305.934, 572.605\")').text()\n",
    "rbc_count = pdf.pq('LTTextLineHorizontal:in_bbox(\"283.877, 510.894, 301.032, 519.71\")').text()\n",
    "tlc = pdf.pq('LTTextLineHorizontal:in_bbox(\"283.877, 378.658, 301.032, 387.474\")').text()\n",
    "tpc = pdf.pq('LTTextLineHorizontal:in_bbox(\"283.877, 161.613, 298.582, 170.429\")').text()\n",
    "hbA1c = pdf.pq('LTTextLineHorizontal:in_bbox(\"278.361, 581.322, 290.615, 590.138\")').text()\n",
    "cholesterol = pdf.pq('LTTextLineHorizontal:in_bbox(\"272.156, 350.586, 299.114, 359.401\")').text()\n",
    "glu_fasting = pdf.pq('LTTextLineHorizontal:in_bbox(\"272.156, 573.146, 294.213, 581.962\")').text()"
   ]
  }
 ],
 "metadata": {
  "kernelspec": {
   "display_name": "Python 3",
   "language": "python",
   "name": "python3"
  },
  "language_info": {
   "codemirror_mode": {
    "name": "ipython",
    "version": 3
   },
   "file_extension": ".py",
   "mimetype": "text/x-python",
   "name": "python",
   "nbconvert_exporter": "python",
   "pygments_lexer": "ipython3",
   "version": "3.7.6"
  },
  "orig_nbformat": 4
 },
 "nbformat": 4,
 "nbformat_minor": 2
}
